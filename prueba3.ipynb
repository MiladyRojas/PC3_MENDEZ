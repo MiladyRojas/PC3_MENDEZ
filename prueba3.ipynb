{
 "cells": [
  {
   "cell_type": "code",
   "execution_count": 3,
   "metadata": {
    "id": "WPuN6Iii-3UP"
   },
   "outputs": [],
   "source": [
    "def factorial(numero):\n",
    "    if numero < 0:\n",
    "        return \"Error ingrese un número entero positivo.\"\n",
    "    factorial = 1\n",
    "    while numero > 0:\n",
    "        factorial = factorial * numero\n",
    "        numero -= 1\n",
    "    return factorial"
   ]
  },
  {
   "cell_type": "code",
   "execution_count": null,
   "metadata": {},
   "outputs": [],
   "source": [
    "#Función factorial:\n",
    "\n",
    "def facto(x):\n",
    "    a=1\n",
    "    for i in range(1,x+1):\n",
    "        a = a*i\n",
    "    return a  "
   ]
  },
  {
   "cell_type": "code",
   "execution_count": null,
   "metadata": {},
   "outputs": [],
   "source": [
    "#nueva funcion by  VARGAS\n",
    "def factorial_recursivo(a):\n",
    "    if a <= 1:\n",
    "        return 1\n",
    "    return a * factorial_recursivo(a-1)\n",
    "factorial_recursivo(5)"
   ]
  }
 ],
 "metadata": {
  "colab": {
   "name": "Untitled0.ipynb",
   "provenance": []
  },
  "kernelspec": {
   "display_name": "Python 3 (ipykernel)",
   "language": "python",
   "name": "python3"
  },
  "language_info": {
   "codemirror_mode": {
    "name": "ipython",
    "version": 3
   },
   "file_extension": ".py",
   "mimetype": "text/x-python",
   "name": "python",
   "nbconvert_exporter": "python",
   "pygments_lexer": "ipython3",
   "version": "3.9.12"
  }
 },
 "nbformat": 4,
 "nbformat_minor": 1
}
